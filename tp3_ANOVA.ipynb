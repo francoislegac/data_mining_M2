{
 "cells": [
  {
   "cell_type": "code",
   "execution_count": 38,
   "metadata": {},
   "outputs": [],
   "source": [
    "import pandas as pd \n",
    "import numpy as np\n",
    "import matplotlib.pyplot as plt\n",
    "import statsmodels.api as sm\n",
    "from scipy import stats\n",
    "from statsmodels.formula.api import ols\n",
    "import numpy.random as rdm\n",
    "from sklearn.model_selection import train_test_split\n",
    "import seaborn as sns\n",
    "import math\n",
    "%matplotlib inline"
   ]
  },
  {
   "cell_type": "markdown",
   "metadata": {},
   "source": [
    "# TP3\n",
    "\n",
    "## 1) Abeille et pesticides"
   ]
  },
  {
   "cell_type": "code",
   "execution_count": 364,
   "metadata": {},
   "outputs": [],
   "source": [
    "df = pd.read_csv(\"./OrchardSprays.csv\", index_col=0)"
   ]
  },
  {
   "cell_type": "code",
   "execution_count": 4,
   "metadata": {},
   "outputs": [
    {
     "data": {
      "text/html": [
       "<div>\n",
       "<style scoped>\n",
       "    .dataframe tbody tr th:only-of-type {\n",
       "        vertical-align: middle;\n",
       "    }\n",
       "\n",
       "    .dataframe tbody tr th {\n",
       "        vertical-align: top;\n",
       "    }\n",
       "\n",
       "    .dataframe thead th {\n",
       "        text-align: right;\n",
       "    }\n",
       "</style>\n",
       "<table border=\"1\" class=\"dataframe\">\n",
       "  <thead>\n",
       "    <tr style=\"text-align: right;\">\n",
       "      <th></th>\n",
       "      <th>decrease</th>\n",
       "      <th>rowpos</th>\n",
       "      <th>colpos</th>\n",
       "      <th>treatment</th>\n",
       "    </tr>\n",
       "  </thead>\n",
       "  <tbody>\n",
       "    <tr>\n",
       "      <td>1</td>\n",
       "      <td>57</td>\n",
       "      <td>1</td>\n",
       "      <td>1</td>\n",
       "      <td>D</td>\n",
       "    </tr>\n",
       "    <tr>\n",
       "      <td>2</td>\n",
       "      <td>95</td>\n",
       "      <td>2</td>\n",
       "      <td>1</td>\n",
       "      <td>E</td>\n",
       "    </tr>\n",
       "    <tr>\n",
       "      <td>3</td>\n",
       "      <td>8</td>\n",
       "      <td>3</td>\n",
       "      <td>1</td>\n",
       "      <td>B</td>\n",
       "    </tr>\n",
       "    <tr>\n",
       "      <td>4</td>\n",
       "      <td>69</td>\n",
       "      <td>4</td>\n",
       "      <td>1</td>\n",
       "      <td>H</td>\n",
       "    </tr>\n",
       "    <tr>\n",
       "      <td>5</td>\n",
       "      <td>92</td>\n",
       "      <td>5</td>\n",
       "      <td>1</td>\n",
       "      <td>G</td>\n",
       "    </tr>\n",
       "  </tbody>\n",
       "</table>\n",
       "</div>"
      ],
      "text/plain": [
       "   decrease  rowpos  colpos treatment\n",
       "1        57       1       1         D\n",
       "2        95       2       1         E\n",
       "3         8       3       1         B\n",
       "4        69       4       1         H\n",
       "5        92       5       1         G"
      ]
     },
     "execution_count": 4,
     "metadata": {},
     "output_type": "execute_result"
    }
   ],
   "source": [
    "df.head()"
   ]
  },
  {
   "cell_type": "code",
   "execution_count": 5,
   "metadata": {},
   "outputs": [
    {
     "name": "stdout",
     "output_type": "stream",
     "text": [
      "<class 'pandas.core.frame.DataFrame'>\n",
      "Int64Index: 64 entries, 1 to 64\n",
      "Data columns (total 4 columns):\n",
      "decrease     64 non-null int64\n",
      "rowpos       64 non-null int64\n",
      "colpos       64 non-null int64\n",
      "treatment    64 non-null category\n",
      "dtypes: category(1), int64(3)\n",
      "memory usage: 2.4 KB\n"
     ]
    }
   ],
   "source": [
    "df[\"treatment\"] = df[\"treatment\"].astype('category')\n",
    "df.info()"
   ]
  },
  {
   "cell_type": "code",
   "execution_count": 6,
   "metadata": {},
   "outputs": [
    {
     "data": {
      "text/html": [
       "<div>\n",
       "<style scoped>\n",
       "    .dataframe tbody tr th:only-of-type {\n",
       "        vertical-align: middle;\n",
       "    }\n",
       "\n",
       "    .dataframe tbody tr th {\n",
       "        vertical-align: top;\n",
       "    }\n",
       "\n",
       "    .dataframe thead th {\n",
       "        text-align: right;\n",
       "    }\n",
       "</style>\n",
       "<table border=\"1\" class=\"dataframe\">\n",
       "  <thead>\n",
       "    <tr style=\"text-align: right;\">\n",
       "      <th></th>\n",
       "      <th>treatment</th>\n",
       "      <th>decrease</th>\n",
       "    </tr>\n",
       "  </thead>\n",
       "  <tbody>\n",
       "    <tr>\n",
       "      <td>14</td>\n",
       "      <td>A</td>\n",
       "      <td>2</td>\n",
       "    </tr>\n",
       "    <tr>\n",
       "      <td>19</td>\n",
       "      <td>A</td>\n",
       "      <td>5</td>\n",
       "    </tr>\n",
       "    <tr>\n",
       "      <td>26</td>\n",
       "      <td>A</td>\n",
       "      <td>4</td>\n",
       "    </tr>\n",
       "    <tr>\n",
       "      <td>63</td>\n",
       "      <td>A</td>\n",
       "      <td>3</td>\n",
       "    </tr>\n",
       "    <tr>\n",
       "      <td>53</td>\n",
       "      <td>A</td>\n",
       "      <td>4</td>\n",
       "    </tr>\n",
       "  </tbody>\n",
       "</table>\n",
       "</div>"
      ],
      "text/plain": [
       "   treatment  decrease\n",
       "14         A         2\n",
       "19         A         5\n",
       "26         A         4\n",
       "63         A         3\n",
       "53         A         4"
      ]
     },
     "execution_count": 6,
     "metadata": {},
     "output_type": "execute_result"
    }
   ],
   "source": [
    "df_tmp = df[['treatment', 'decrease']].sort_values(by=['treatment'])\n",
    "df_tmp.head(n=5)"
   ]
  },
  {
   "cell_type": "code",
   "execution_count": 12,
   "metadata": {},
   "outputs": [
    {
     "ename": "TypeError",
     "evalue": "can only concatenate str (not \"int\") to str",
     "output_type": "error",
     "traceback": [
      "\u001b[0;31m---------------------------------------------------------------------------\u001b[0m",
      "\u001b[0;31mTypeError\u001b[0m                                 Traceback (most recent call last)",
      "\u001b[0;32m<ipython-input-12-7a5bcebbff23>\u001b[0m in \u001b[0;36m<module>\u001b[0;34m\u001b[0m\n\u001b[1;32m     12\u001b[0m     \u001b[0mdf2_tmp\u001b[0m\u001b[0;34m.\u001b[0m\u001b[0mappend\u001b[0m\u001b[0;34m(\u001b[0m\u001b[0mdf2\u001b[0m\u001b[0;34m[\u001b[0m\u001b[0;34m[\u001b[0m\u001b[0;34m'treatment'\u001b[0m\u001b[0;34m,\u001b[0m\u001b[0;34m'decrease'\u001b[0m\u001b[0;34m]\u001b[0m\u001b[0;34m]\u001b[0m\u001b[0;34m[\u001b[0m\u001b[0mdf2\u001b[0m\u001b[0;34m[\u001b[0m\u001b[0;34m'treatment'\u001b[0m\u001b[0;34m]\u001b[0m \u001b[0;34m==\u001b[0m \u001b[0mtreatLabs\u001b[0m\u001b[0;34m[\u001b[0m\u001b[0mi\u001b[0m\u001b[0;34m]\u001b[0m\u001b[0;34m]\u001b[0m\u001b[0;34m)\u001b[0m\u001b[0;34m\u001b[0m\u001b[0;34m\u001b[0m\u001b[0m\n\u001b[1;32m     13\u001b[0m \u001b[0;34m\u001b[0m\u001b[0m\n\u001b[0;32m---> 14\u001b[0;31m \u001b[0max\u001b[0m\u001b[0;34m[\u001b[0m\u001b[0;36m1\u001b[0m\u001b[0;34m]\u001b[0m\u001b[0;34m.\u001b[0m\u001b[0mboxplot\u001b[0m\u001b[0;34m(\u001b[0m\u001b[0mdf_tmp\u001b[0m\u001b[0;34m)\u001b[0m\u001b[0;34m\u001b[0m\u001b[0;34m\u001b[0m\u001b[0m\n\u001b[0m\u001b[1;32m     15\u001b[0m \u001b[0max\u001b[0m\u001b[0;34m[\u001b[0m\u001b[0;36m1\u001b[0m\u001b[0;34m]\u001b[0m\u001b[0;34m.\u001b[0m\u001b[0mset_title\u001b[0m\u001b[0;34m(\u001b[0m\u001b[0;34m\"decrease = fct(treatment)\"\u001b[0m\u001b[0;34m)\u001b[0m\u001b[0;34m\u001b[0m\u001b[0;34m\u001b[0m\u001b[0m\n\u001b[1;32m     16\u001b[0m \u001b[0max\u001b[0m\u001b[0;34m[\u001b[0m\u001b[0;36m1\u001b[0m\u001b[0;34m]\u001b[0m\u001b[0;34m.\u001b[0m\u001b[0mset_xlabel\u001b[0m\u001b[0;34m(\u001b[0m\u001b[0;34m\"treatment\"\u001b[0m\u001b[0;34m)\u001b[0m\u001b[0;34m\u001b[0m\u001b[0;34m\u001b[0m\u001b[0m\n",
      "\u001b[0;32m~/opt/anaconda3/lib/python3.7/site-packages/matplotlib/cbook/deprecation.py\u001b[0m in \u001b[0;36mwrapper\u001b[0;34m(*args, **kwargs)\u001b[0m\n\u001b[1;32m    305\u001b[0m                 f\"for the old name will be dropped %(removal)s.\")\n\u001b[1;32m    306\u001b[0m             \u001b[0mkwargs\u001b[0m\u001b[0;34m[\u001b[0m\u001b[0mnew\u001b[0m\u001b[0;34m]\u001b[0m \u001b[0;34m=\u001b[0m \u001b[0mkwargs\u001b[0m\u001b[0;34m.\u001b[0m\u001b[0mpop\u001b[0m\u001b[0;34m(\u001b[0m\u001b[0mold\u001b[0m\u001b[0;34m)\u001b[0m\u001b[0;34m\u001b[0m\u001b[0;34m\u001b[0m\u001b[0m\n\u001b[0;32m--> 307\u001b[0;31m         \u001b[0;32mreturn\u001b[0m \u001b[0mfunc\u001b[0m\u001b[0;34m(\u001b[0m\u001b[0;34m*\u001b[0m\u001b[0margs\u001b[0m\u001b[0;34m,\u001b[0m \u001b[0;34m**\u001b[0m\u001b[0mkwargs\u001b[0m\u001b[0;34m)\u001b[0m\u001b[0;34m\u001b[0m\u001b[0;34m\u001b[0m\u001b[0m\n\u001b[0m\u001b[1;32m    308\u001b[0m \u001b[0;34m\u001b[0m\u001b[0m\n\u001b[1;32m    309\u001b[0m     \u001b[0;31m# wrapper() must keep the same documented signature as func(): if we\u001b[0m\u001b[0;34m\u001b[0m\u001b[0;34m\u001b[0m\u001b[0;34m\u001b[0m\u001b[0m\n",
      "\u001b[0;32m~/opt/anaconda3/lib/python3.7/site-packages/matplotlib/__init__.py\u001b[0m in \u001b[0;36minner\u001b[0;34m(ax, data, *args, **kwargs)\u001b[0m\n\u001b[1;32m   1599\u001b[0m     \u001b[0;32mdef\u001b[0m \u001b[0minner\u001b[0m\u001b[0;34m(\u001b[0m\u001b[0max\u001b[0m\u001b[0;34m,\u001b[0m \u001b[0;34m*\u001b[0m\u001b[0margs\u001b[0m\u001b[0;34m,\u001b[0m \u001b[0mdata\u001b[0m\u001b[0;34m=\u001b[0m\u001b[0;32mNone\u001b[0m\u001b[0;34m,\u001b[0m \u001b[0;34m**\u001b[0m\u001b[0mkwargs\u001b[0m\u001b[0;34m)\u001b[0m\u001b[0;34m:\u001b[0m\u001b[0;34m\u001b[0m\u001b[0;34m\u001b[0m\u001b[0m\n\u001b[1;32m   1600\u001b[0m         \u001b[0;32mif\u001b[0m \u001b[0mdata\u001b[0m \u001b[0;32mis\u001b[0m \u001b[0;32mNone\u001b[0m\u001b[0;34m:\u001b[0m\u001b[0;34m\u001b[0m\u001b[0;34m\u001b[0m\u001b[0m\n\u001b[0;32m-> 1601\u001b[0;31m             \u001b[0;32mreturn\u001b[0m \u001b[0mfunc\u001b[0m\u001b[0;34m(\u001b[0m\u001b[0max\u001b[0m\u001b[0;34m,\u001b[0m \u001b[0;34m*\u001b[0m\u001b[0mmap\u001b[0m\u001b[0;34m(\u001b[0m\u001b[0msanitize_sequence\u001b[0m\u001b[0;34m,\u001b[0m \u001b[0margs\u001b[0m\u001b[0;34m)\u001b[0m\u001b[0;34m,\u001b[0m \u001b[0;34m**\u001b[0m\u001b[0mkwargs\u001b[0m\u001b[0;34m)\u001b[0m\u001b[0;34m\u001b[0m\u001b[0;34m\u001b[0m\u001b[0m\n\u001b[0m\u001b[1;32m   1602\u001b[0m \u001b[0;34m\u001b[0m\u001b[0m\n\u001b[1;32m   1603\u001b[0m         \u001b[0mbound\u001b[0m \u001b[0;34m=\u001b[0m \u001b[0mnew_sig\u001b[0m\u001b[0;34m.\u001b[0m\u001b[0mbind\u001b[0m\u001b[0;34m(\u001b[0m\u001b[0max\u001b[0m\u001b[0;34m,\u001b[0m \u001b[0;34m*\u001b[0m\u001b[0margs\u001b[0m\u001b[0;34m,\u001b[0m \u001b[0;34m**\u001b[0m\u001b[0mkwargs\u001b[0m\u001b[0;34m)\u001b[0m\u001b[0;34m\u001b[0m\u001b[0;34m\u001b[0m\u001b[0m\n",
      "\u001b[0;32m~/opt/anaconda3/lib/python3.7/site-packages/matplotlib/axes/_axes.py\u001b[0m in \u001b[0;36mboxplot\u001b[0;34m(self, x, notch, sym, vert, whis, positions, widths, patch_artist, bootstrap, usermedians, conf_intervals, meanline, showmeans, showcaps, showbox, showfliers, boxprops, labels, flierprops, medianprops, meanprops, capprops, whiskerprops, manage_ticks, autorange, zorder)\u001b[0m\n\u001b[1;32m   3668\u001b[0m \u001b[0;34m\u001b[0m\u001b[0m\n\u001b[1;32m   3669\u001b[0m         bxpstats = cbook.boxplot_stats(x, whis=whis, bootstrap=bootstrap,\n\u001b[0;32m-> 3670\u001b[0;31m                                        labels=labels, autorange=autorange)\n\u001b[0m\u001b[1;32m   3671\u001b[0m         \u001b[0;32mif\u001b[0m \u001b[0mnotch\u001b[0m \u001b[0;32mis\u001b[0m \u001b[0;32mNone\u001b[0m\u001b[0;34m:\u001b[0m\u001b[0;34m\u001b[0m\u001b[0;34m\u001b[0m\u001b[0m\n\u001b[1;32m   3672\u001b[0m             \u001b[0mnotch\u001b[0m \u001b[0;34m=\u001b[0m \u001b[0mrcParams\u001b[0m\u001b[0;34m[\u001b[0m\u001b[0;34m'boxplot.notch'\u001b[0m\u001b[0;34m]\u001b[0m\u001b[0;34m\u001b[0m\u001b[0;34m\u001b[0m\u001b[0m\n",
      "\u001b[0;32m~/opt/anaconda3/lib/python3.7/site-packages/matplotlib/cbook/__init__.py\u001b[0m in \u001b[0;36mboxplot_stats\u001b[0;34m(X, whis, bootstrap, labels, autorange)\u001b[0m\n\u001b[1;32m   1283\u001b[0m \u001b[0;34m\u001b[0m\u001b[0m\n\u001b[1;32m   1284\u001b[0m         \u001b[0;31m# arithmetic mean\u001b[0m\u001b[0;34m\u001b[0m\u001b[0;34m\u001b[0m\u001b[0;34m\u001b[0m\u001b[0m\n\u001b[0;32m-> 1285\u001b[0;31m         \u001b[0mstats\u001b[0m\u001b[0;34m[\u001b[0m\u001b[0;34m'mean'\u001b[0m\u001b[0;34m]\u001b[0m \u001b[0;34m=\u001b[0m \u001b[0mnp\u001b[0m\u001b[0;34m.\u001b[0m\u001b[0mmean\u001b[0m\u001b[0;34m(\u001b[0m\u001b[0mx\u001b[0m\u001b[0;34m)\u001b[0m\u001b[0;34m\u001b[0m\u001b[0;34m\u001b[0m\u001b[0m\n\u001b[0m\u001b[1;32m   1286\u001b[0m \u001b[0;34m\u001b[0m\u001b[0m\n\u001b[1;32m   1287\u001b[0m         \u001b[0;31m# medians and quartiles\u001b[0m\u001b[0;34m\u001b[0m\u001b[0;34m\u001b[0m\u001b[0;34m\u001b[0m\u001b[0m\n",
      "\u001b[0;32m<__array_function__ internals>\u001b[0m in \u001b[0;36mmean\u001b[0;34m(*args, **kwargs)\u001b[0m\n",
      "\u001b[0;32m~/opt/anaconda3/lib/python3.7/site-packages/numpy/core/fromnumeric.py\u001b[0m in \u001b[0;36mmean\u001b[0;34m(a, axis, dtype, out, keepdims)\u001b[0m\n\u001b[1;32m   3255\u001b[0m \u001b[0;34m\u001b[0m\u001b[0m\n\u001b[1;32m   3256\u001b[0m     return _methods._mean(a, axis=axis, dtype=dtype,\n\u001b[0;32m-> 3257\u001b[0;31m                           out=out, **kwargs)\n\u001b[0m\u001b[1;32m   3258\u001b[0m \u001b[0;34m\u001b[0m\u001b[0m\n\u001b[1;32m   3259\u001b[0m \u001b[0;34m\u001b[0m\u001b[0m\n",
      "\u001b[0;32m~/opt/anaconda3/lib/python3.7/site-packages/numpy/core/_methods.py\u001b[0m in \u001b[0;36m_mean\u001b[0;34m(a, axis, dtype, out, keepdims)\u001b[0m\n\u001b[1;32m    149\u001b[0m             \u001b[0mis_float16_result\u001b[0m \u001b[0;34m=\u001b[0m \u001b[0;32mTrue\u001b[0m\u001b[0;34m\u001b[0m\u001b[0;34m\u001b[0m\u001b[0m\n\u001b[1;32m    150\u001b[0m \u001b[0;34m\u001b[0m\u001b[0m\n\u001b[0;32m--> 151\u001b[0;31m     \u001b[0mret\u001b[0m \u001b[0;34m=\u001b[0m \u001b[0mumr_sum\u001b[0m\u001b[0;34m(\u001b[0m\u001b[0marr\u001b[0m\u001b[0;34m,\u001b[0m \u001b[0maxis\u001b[0m\u001b[0;34m,\u001b[0m \u001b[0mdtype\u001b[0m\u001b[0;34m,\u001b[0m \u001b[0mout\u001b[0m\u001b[0;34m,\u001b[0m \u001b[0mkeepdims\u001b[0m\u001b[0;34m)\u001b[0m\u001b[0;34m\u001b[0m\u001b[0;34m\u001b[0m\u001b[0m\n\u001b[0m\u001b[1;32m    152\u001b[0m     \u001b[0;32mif\u001b[0m \u001b[0misinstance\u001b[0m\u001b[0;34m(\u001b[0m\u001b[0mret\u001b[0m\u001b[0;34m,\u001b[0m \u001b[0mmu\u001b[0m\u001b[0;34m.\u001b[0m\u001b[0mndarray\u001b[0m\u001b[0;34m)\u001b[0m\u001b[0;34m:\u001b[0m\u001b[0;34m\u001b[0m\u001b[0;34m\u001b[0m\u001b[0m\n\u001b[1;32m    153\u001b[0m         ret = um.true_divide(\n",
      "\u001b[0;31mTypeError\u001b[0m: can only concatenate str (not \"int\") to str"
     ]
    },
    {
     "data": {
      "image/png": "[encoded data removed]",
      "text/plain": [
       "<Figure size 432x288 with 2 Axes>"
      ]
     },
     "metadata": {
      "needs_background": "light"
     },
     "output_type": "display_data"
    }
   ],
   "source": [
    "fig, ax = plt.subplots(1,2)\n",
    "ax[0].scatter(df[\"treatment\"], df[\"decrease\"])\n",
    "ax[0].set_title(\"decrease = fct(treatment)\")\n",
    "ax[0].set_xlabel(\"treatment\")\n",
    "ax[0].set_ylabel(\"decrease\")\n",
    "\n",
    "#Multiple boxplot\n",
    "df2 = df[['treatment', 'decrease']]\n",
    "df2_tmp = []\n",
    "treatLabs = list(df2['treatment'].unique())\n",
    "for i in range(len(treatLabs)):\n",
    "    df2_tmp.append(df2[['treatment','decrease']][df2['treatment'] == treatLabs[i]])\n",
    "\n",
    "ax[1].boxplot(df_tmp)\n",
    "ax[1].set_title(\"decrease = fct(treatment)\")\n",
    "ax[1].set_xlabel(\"treatment\")\n",
    "ax[1].set_ylabel(\"decrease\")\n",
    ";\n"
   ]
  },
  {
   "cell_type": "code",
   "execution_count": 8,
   "metadata": {},
   "outputs": [
    {
     "data": {
      "text/plain": [
       "<bound method Series.unique of 1     D\n",
       "2     E\n",
       "3     B\n",
       "4     H\n",
       "5     G\n",
       "     ..\n",
       "60    B\n",
       "61    H\n",
       "62    E\n",
       "63    A\n",
       "64    C\n",
       "Name: treatment, Length: 64, dtype: category\n",
       "Categories (8, object): [A, B, C, D, E, F, G, H]>"
      ]
     },
     "execution_count": 8,
     "metadata": {},
     "output_type": "execute_result"
    }
   ],
   "source": [
    "df[\"treatment\"].unique"
   ]
  },
  {
   "cell_type": "markdown",
   "metadata": {},
   "source": [
    "La variable \"treatment\" est composée de 8 modalités correspondants à 8 traitements différents. Pour savoir si la décroissance de fréquentation des abeilles est lié au traitement on peut utiliser un test de Fisher (Quanti/Quali) ou le modèle ANOVA. Le tableau de contingence ci-dessous permet de vérifier que le dispositif expérimental est équilibré.\n",
    "On commence par réaliser un test de Fisher \n",
    "\n",
    "*NOTE : équilibré veut dire même effectif !\""
   ]
  },
  {
   "cell_type": "code",
   "execution_count": 9,
   "metadata": {},
   "outputs": [
    {
     "data": {
      "text/html": [
       "<div>\n",
       "<style scoped>\n",
       "    .dataframe tbody tr th:only-of-type {\n",
       "        vertical-align: middle;\n",
       "    }\n",
       "\n",
       "    .dataframe tbody tr th {\n",
       "        vertical-align: top;\n",
       "    }\n",
       "\n",
       "    .dataframe thead th {\n",
       "        text-align: right;\n",
       "    }\n",
       "</style>\n",
       "<table border=\"1\" class=\"dataframe\">\n",
       "  <thead>\n",
       "    <tr style=\"text-align: right;\">\n",
       "      <th>decrease_cat</th>\n",
       "      <th>faible</th>\n",
       "      <th>moyen</th>\n",
       "      <th>eleve</th>\n",
       "      <th>All</th>\n",
       "    </tr>\n",
       "    <tr>\n",
       "      <th>treatment</th>\n",
       "      <th></th>\n",
       "      <th></th>\n",
       "      <th></th>\n",
       "      <th></th>\n",
       "    </tr>\n",
       "  </thead>\n",
       "  <tbody>\n",
       "    <tr>\n",
       "      <td>A</td>\n",
       "      <td>0.12</td>\n",
       "      <td>0.00</td>\n",
       "      <td>0.00</td>\n",
       "      <td>0.12</td>\n",
       "    </tr>\n",
       "    <tr>\n",
       "      <td>B</td>\n",
       "      <td>0.12</td>\n",
       "      <td>0.00</td>\n",
       "      <td>0.00</td>\n",
       "      <td>0.12</td>\n",
       "    </tr>\n",
       "    <tr>\n",
       "      <td>C</td>\n",
       "      <td>0.11</td>\n",
       "      <td>0.02</td>\n",
       "      <td>0.00</td>\n",
       "      <td>0.12</td>\n",
       "    </tr>\n",
       "    <tr>\n",
       "      <td>D</td>\n",
       "      <td>0.09</td>\n",
       "      <td>0.03</td>\n",
       "      <td>0.00</td>\n",
       "      <td>0.12</td>\n",
       "    </tr>\n",
       "    <tr>\n",
       "      <td>E</td>\n",
       "      <td>0.03</td>\n",
       "      <td>0.06</td>\n",
       "      <td>0.03</td>\n",
       "      <td>0.12</td>\n",
       "    </tr>\n",
       "    <tr>\n",
       "      <td>F</td>\n",
       "      <td>0.03</td>\n",
       "      <td>0.06</td>\n",
       "      <td>0.03</td>\n",
       "      <td>0.12</td>\n",
       "    </tr>\n",
       "    <tr>\n",
       "      <td>G</td>\n",
       "      <td>0.02</td>\n",
       "      <td>0.09</td>\n",
       "      <td>0.02</td>\n",
       "      <td>0.12</td>\n",
       "    </tr>\n",
       "    <tr>\n",
       "      <td>H</td>\n",
       "      <td>0.00</td>\n",
       "      <td>0.09</td>\n",
       "      <td>0.03</td>\n",
       "      <td>0.12</td>\n",
       "    </tr>\n",
       "    <tr>\n",
       "      <td>All</td>\n",
       "      <td>0.53</td>\n",
       "      <td>0.36</td>\n",
       "      <td>0.11</td>\n",
       "      <td>1.00</td>\n",
       "    </tr>\n",
       "  </tbody>\n",
       "</table>\n",
       "</div>"
      ],
      "text/plain": [
       "decrease_cat  faible  moyen  eleve   All\n",
       "treatment                               \n",
       "A               0.12   0.00   0.00  0.12\n",
       "B               0.12   0.00   0.00  0.12\n",
       "C               0.11   0.02   0.00  0.12\n",
       "D               0.09   0.03   0.00  0.12\n",
       "E               0.03   0.06   0.03  0.12\n",
       "F               0.03   0.06   0.03  0.12\n",
       "G               0.02   0.09   0.02  0.12\n",
       "H               0.00   0.09   0.03  0.12\n",
       "All             0.53   0.36   0.11  1.00"
      ]
     },
     "execution_count": 9,
     "metadata": {},
     "output_type": "execute_result"
    }
   ],
   "source": [
    "df['decrease_cat']= pd.cut(df['decrease'],3, labels=['faible', 'moyen', 'eleve'])\n",
    "ctTrDec = pd.crosstab(df['treatment'], df['decrease_cat'], margins = True)\n",
    "round(ctTrDec/64,2)"
   ]
  },
  {
   "cell_type": "code",
   "execution_count": 10,
   "metadata": {},
   "outputs": [
    {
     "name": "stdout",
     "output_type": "stream",
     "text": [
      "La statistique de test = 41.005, la p-valeur = 0.017\n"
     ]
    }
   ],
   "source": [
    "#Test de Fisher\n",
    "chi2, p, dof, exp = stats.chi2_contingency(ctTrDec)\n",
    "print(\"La statistique de test = {0:.3f}, la p-valeur = {1:.3f}\".format(chi2, p))"
   ]
  },
  {
   "cell_type": "markdown",
   "metadata": {},
   "source": [
    "p < 0.05, on rejette \"H0: les 2 variables sont indépendantes\" au risque alpha=0.05. Les 2 variables sont liées. On aurait peut être pu essayer un test de Fisher. "
   ]
  },
  {
   "cell_type": "code",
   "execution_count": 31,
   "metadata": {
    "scrolled": true
   },
   "outputs": [
    {
     "name": "stdout",
     "output_type": "stream",
     "text": [
      "La stat de test = 4.823, la p valeur = 0.019\n"
     ]
    }
   ],
   "source": [
    "stat, pvalue = stats.f_oneway(\n",
    "    df['decrease'][df['treatment']=='A'],\n",
    "    df['decrease'][df['treatment']=='B'],\n",
    "    df['decrease'][df['treatment']=='C']\n",
    ")\n",
    "print(\"La stat de test = {0:.3f}, la p valeur = {1:.3f}\".format(stat, pvalue))"
   ]
  },
  {
   "cell_type": "markdown",
   "metadata": {},
   "source": [
    "On décide donc de rejetter l'hypothèse nulle au risque 5%. Il existe donc une des moyennes qui est significativement différente des autres.\n",
    "\n",
    "**Q4**\n",
    "On vérifie les hypothèses :\n",
    "    1. normalité des résidus\n",
    "    2. indépendance des obs.\n",
    "    3. homoscédasticité \n",
    "    "
   ]
  },
  {
   "cell_type": "code",
   "execution_count": 323,
   "metadata": {},
   "outputs": [
    {
     "name": "stdout",
     "output_type": "stream",
     "text": [
      "             df        sum_sq      mean_sq          F        PR(>F)\n",
      "treatment   7.0  43523.774675  6217.682096  14.022512  1.302857e-08\n",
      "Residual   36.0  15962.657143   443.407143        NaN           NaN\n"
     ]
    }
   ],
   "source": [
    "#Réalisation du modèle \n",
    "\n",
    "#idx_train = rdm.randint(0,len(df),size= round(len(df)*.7))\n",
    "#idx_test = np.setxor1d(idx_train, np.arange(len(df)))\n",
    "#X_train = df.iloc[idx_train,]\n",
    "#X_test = df.iloc[idx_test, ]\n",
    "df_tmp = df.copy()\n",
    "df_tmp.drop('decrease', axis=1)\n",
    "y = df['decrease']\n",
    "X_train, X_test, y_train, y_test = train_test_split(df_tmp, y, test_size=0.3)\n",
    "df_tmp2 = pd.concat([X_train, y_train], axis=1)\n",
    "\n",
    "model = ols('decrease ~ treatment', data= X_train).fit()\n",
    "anova_table = sm.stats.anova_lm(model)\n",
    "print(anova_table)"
   ]
  },
  {
   "cell_type": "markdown",
   "metadata": {},
   "source": [
    "Interprétation des résultats :\n",
    "\n",
    "Normalité des résidus"
   ]
  },
  {
   "cell_type": "code",
   "execution_count": 159,
   "metadata": {},
   "outputs": [
    {
     "data": {
      "text/plain": [
       "''"
      ]
     },
     "execution_count": 159,
     "metadata": {},
     "output_type": "execute_result"
    },
    {
     "data": {
      "image/png": "[encoded data removed]",
      "text/plain": [
       "<Figure size 432x288 with 1 Axes>"
      ]
     },
     "metadata": {
      "needs_background": "light"
     },
     "output_type": "display_data"
    }
   ],
   "source": [
    "#ax, fig = plt.subplots()\n",
    "import scipy.stats\n",
    "\n",
    "residuals = df['decrease'] - model.predict(df)\n",
    "x = np.arange(-60, 60,0.1)\n",
    "fig , ax = plt.subplots()\n",
    "ax.hist(residuals, bins = 30, density=True, edgecolor='b')\n",
    "ax.plot(x, stats.norm.pdf(x, loc= np.mean(residuals), scale = np.std(residuals)), color='r', linewidth=2)\n",
    "ax.set_title('Distribution des résidus')\n",
    "ax.legend(['pdf'])\n",
    ";"
   ]
  },
  {
   "cell_type": "markdown",
   "metadata": {},
   "source": [
    "Vu le résultat graphique on décide de faire un test de shapiro Wilk"
   ]
  },
  {
   "cell_type": "code",
   "execution_count": 165,
   "metadata": {},
   "outputs": [
    {
     "name": "stdout",
     "output_type": "stream",
     "text": [
      "La stat de test = 0.92, la p valeur = 0.0006\n"
     ]
    }
   ],
   "source": [
    "stat, p = stats.shapiro(residuals)\n",
    "print('La stat de test = {0:.2f}, la p valeur = {1:.4f}'.format(stat, p))"
   ]
  },
  {
   "cell_type": "markdown",
   "metadata": {},
   "source": [
    "On rejette donc l'hypothèse nulle selon laquelle la distribution est normale"
   ]
  },
  {
   "cell_type": "markdown",
   "metadata": {},
   "source": [
    "Vérification des hypothèses\n",
    "\n",
    "Homoscédasticité\n",
    "Pour test l'hypothèse d'homoscédasticité on utilise le test de Barlett.\n",
    "H0: vA = vB = vC (toutes les variances sont égales)"
   ]
  },
  {
   "cell_type": "code",
   "execution_count": 412,
   "metadata": {},
   "outputs": [
    {
     "name": "stdout",
     "output_type": "stream",
     "text": [
      "La stat= 2.689, la pvaleur = 0.100\n",
      "var1= 3.204, var2 3.292, var3 24.429\n"
     ]
    }
   ],
   "source": [
    "df_tmp = []\n",
    "df_tmp.append(df['decrease'][df['treatment']=='A'])\n",
    "df_tmp.append(df['decrease'][df['treatment']=='B'])\n",
    "df_tmp.append(df['decrease'][df['treatment']=='C'])\n",
    "stats.bartlett(df_tmp[0], df_tmp[1], df_tmp[2])\n",
    "print('La stat= {0:.3f}, la pvaleur = {1:.3f}'.format(stat,p))\n",
    "\n",
    "print('var1= {0:.3f}, var2 {1:.3f}, var3 {2:.3f}'.format(df_tmp[0].std(), df_tmp[1].std(), df_tmp[2].std()))"
   ]
  },
  {
   "cell_type": "markdown",
   "metadata": {},
   "source": [
    "On rejette l'hypothèse H0. On se propose de faire une transformation pour obtenir la même variance"
   ]
  },
  {
   "cell_type": "code",
   "execution_count": 414,
   "metadata": {},
   "outputs": [
    {
     "name": "stdout",
     "output_type": "stream",
     "text": [
      "La stat= 4.632, la pvaleur = 0.099\n",
      "var1= 0.436, var2 0.228, var3 0.207\n"
     ]
    }
   ],
   "source": [
    "'''\n",
    "#On réduit \n",
    "stdA = df_tmp[0].std()\n",
    "stdB = df_tmp[1].std()\n",
    "stdC = df_tmp[2].std()\n",
    "#on réduit\n",
    "df_tmp[0] = (df_tmp[0]/stdA)\n",
    "df_tmp[1] = (df_tmp[1]/stdB)\n",
    "df_tmp[2] = (df_tmp[2]/stdC)\n",
    "stats.bartlett(df_tmp[0], df_tmp[1], df_tmp[2])\n",
    "'''\n",
    "for i in range(3):\n",
    "    df_tmp[i] = pd.Series(map(math.log, df_tmp[i]))\n",
    "    \n",
    "    \n",
    "stat , p = stats.bartlett(df_tmp[0], df_tmp[1], df_tmp[2])\n",
    "print('La stat= {0:.3f}, la pvaleur = {1:.3f}'.format(stat,p))\n",
    "print('var1= {0:.3f}, var2 {1:.3f}, var3 {2:.3f}'.format(df_tmp[0].std(), df_tmp[1].std(), df_tmp[2].std()))\n"
   ]
  },
  {
   "cell_type": "markdown",
   "metadata": {},
   "source": [
    "Après cette transformation (non linéaire, on aurait aussi pu prendre racine carré). On note que l'on peut prendre n'importe quelle fonction bijective sur l'ensemble de définition. \n",
    "On peut refaire le test.\n"
   ]
  },
  {
   "cell_type": "code",
   "execution_count": 450,
   "metadata": {},
   "outputs": [
    {
     "name": "stdout",
     "output_type": "stream",
     "text": [
      "             df        sum_sq      mean_sq          F        PR(>F)\n",
      "treatment   7.0  28615.966342  4087.995192  15.406266  3.931178e-09\n",
      "Residual   36.0   9552.465476   265.346263        NaN           NaN\n"
     ]
    }
   ],
   "source": [
    "df_tmp = df.copy()\n",
    "df_tmp.drop('decrease', axis=1)\n",
    "y = df['decrease']\n",
    "y = pd.Series(map(math.log, y))\n",
    "X_train, X_test, y_train, y_test = train_test_split(df_tmp, y, test_size=0.3)\n",
    "df_tmp2 = pd.concat([X_train, y_train], axis=1)\n",
    "\n",
    "model = ols('decrease ~ treatment', data=df_tmp2).fit()\n",
    "anova_table = sm.stats.anova_lm(model)\n",
    "print(anova_table)"
   ]
  },
  {
   "cell_type": "code",
   "execution_count": 467,
   "metadata": {},
   "outputs": [],
   "source": [
    "residuals = y_test - model.predict(X_test)\n",
    "#residuals"
   ]
  },
  {
   "cell_type": "code",
   "execution_count": 443,
   "metadata": {
    "scrolled": true
   },
   "outputs": [
    {
     "name": "stdout",
     "output_type": "stream",
     "text": [
      "Test (A, B) : S= -1.847, p = 0.086\n",
      "on rejette H0 au niveau 0.05 \n",
      "\n",
      "Test (A, C) : S= -2.368, p = 0.033\n",
      "on accepte H0 \n",
      "\n",
      "Test (B, C) : S= -2.022, p = 0.063\n",
      "on rejette H0 au niveau 0.05 \n",
      "\n"
     ]
    }
   ],
   "source": [
    "#('A', 'B', 'C')\n",
    "for i,j in [('A', 'B'), ('A', 'C'), ('B', 'C')]:\n",
    "    stat, p = stats.ttest_ind(df['decrease'].loc[df['treatment'] == i], df['decrease'].loc[df['treatment'] == j])\n",
    "    print('Test ({0}, {1}) : S= {2:.3f}, p = {3:.3f}'.format(i,j,stat,p))\n",
    "    if p > 0.05:\n",
    "        print('on rejette H0 au niveau 0.05 \\n')\n",
    "    else:\n",
    "        print('on accepte H0 \\n')"
   ]
  },
  {
   "cell_type": "markdown",
   "metadata": {},
   "source": [
    "because the one-sided tests can be backed out from the two-sided tests. (With symmetric distributions one-sided p-value is just half of the two-sided pvalue)\n",
    "\n",
    "La baisse moyenne du traitement B est différente des deux autres. Est-elle plus petite ou plus grande ? "
   ]
  },
  {
   "cell_type": "markdown",
   "metadata": {},
   "source": [
    "## 2 Volume pulmonaire\n"
   ]
  },
  {
   "cell_type": "code",
   "execution_count": 25,
   "metadata": {},
   "outputs": [
    {
     "data": {
      "text/html": [
       "<div>\n",
       "<style scoped>\n",
       "    .dataframe tbody tr th:only-of-type {\n",
       "        vertical-align: middle;\n",
       "    }\n",
       "\n",
       "    .dataframe tbody tr th {\n",
       "        vertical-align: top;\n",
       "    }\n",
       "\n",
       "    .dataframe thead th {\n",
       "        text-align: right;\n",
       "    }\n",
       "</style>\n",
       "<table border=\"1\" class=\"dataframe\">\n",
       "  <thead>\n",
       "    <tr style=\"text-align: right;\">\n",
       "      <th></th>\n",
       "      <th>volume</th>\n",
       "      <th>method</th>\n",
       "      <th>subject</th>\n",
       "    </tr>\n",
       "  </thead>\n",
       "  <tbody>\n",
       "    <tr>\n",
       "      <td>1</td>\n",
       "      <td>3.3</td>\n",
       "      <td>A</td>\n",
       "      <td>1</td>\n",
       "    </tr>\n",
       "    <tr>\n",
       "      <td>2</td>\n",
       "      <td>3.1</td>\n",
       "      <td>B</td>\n",
       "      <td>1</td>\n",
       "    </tr>\n",
       "    <tr>\n",
       "      <td>3</td>\n",
       "      <td>4.0</td>\n",
       "      <td>C</td>\n",
       "      <td>1</td>\n",
       "    </tr>\n",
       "    <tr>\n",
       "      <td>4</td>\n",
       "      <td>2.5</td>\n",
       "      <td>A</td>\n",
       "      <td>2</td>\n",
       "    </tr>\n",
       "    <tr>\n",
       "      <td>5</td>\n",
       "      <td>2.6</td>\n",
       "      <td>B</td>\n",
       "      <td>2</td>\n",
       "    </tr>\n",
       "  </tbody>\n",
       "</table>\n",
       "</div>"
      ],
      "text/plain": [
       "   volume method  subject\n",
       "1     3.3      A        1\n",
       "2     3.1      B        1\n",
       "3     4.0      C        1\n",
       "4     2.5      A        2\n",
       "5     2.6      B        2"
      ]
     },
     "execution_count": 25,
     "metadata": {},
     "output_type": "execute_result"
    }
   ],
   "source": [
    "df_lung = pd.read_csv('lung.csv', index_col=0)\n",
    "df_lung.head() #(18, 3)"
   ]
  },
  {
   "cell_type": "markdown",
   "metadata": {},
   "source": [
    "### Q1)\n",
    "On dispose à nouveau d'un facteur et d'une variable quantitative. \n",
    "1er test statistique :\n",
    "H0 : m_ind1 = ... m_ind6 où m désigne le volume pulmonaire moyen"
   ]
  },
  {
   "cell_type": "code",
   "execution_count": 6,
   "metadata": {},
   "outputs": [],
   "source": [
    "df_tmp = []\n",
    "for i in range(6):\n",
    "    df_tmp.append(df_lung['volume'].loc[df_lung['subject']==i + 1])"
   ]
  },
  {
   "cell_type": "code",
   "execution_count": 7,
   "metadata": {},
   "outputs": [
    {
     "name": "stdout",
     "output_type": "stream",
     "text": [
      "La stat= 2.738, la pvaleur = 0.071\n"
     ]
    }
   ],
   "source": [
    "stat, p = stats.f_oneway(df_tmp[0], df_tmp[1], df_tmp[2], df_tmp[3], df_tmp[4], df_tmp[5])\n",
    "print('La stat= {0:.3f}, la pvaleur = {1:.3f}'.format(stat,p))"
   ]
  },
  {
   "cell_type": "markdown",
   "metadata": {},
   "source": [
    "On trouve une p-valeur >0.05, on ne rejette donc pas l'hypothèse H0 au risque de se tromper 5%. Les volumes moyen sont les mêmes pour les différents individus.\n",
    "\n",
    "### Q2)\n",
    "2nd test statistique :\n",
    "H0 : m_A = m_B = m_C (les volumes pulmonaires moyens sont les mêmes selon les différents traitements)"
   ]
  },
  {
   "cell_type": "code",
   "execution_count": 8,
   "metadata": {},
   "outputs": [],
   "source": [
    "df_tmp = [] #Liste de dataframes\n",
    "for i in ['A', 'B', 'C']:\n",
    "    df_tmp.append(df_lung['volume'].loc[df_lung['method']==i])"
   ]
  },
  {
   "cell_type": "code",
   "execution_count": 9,
   "metadata": {},
   "outputs": [
    {
     "name": "stdout",
     "output_type": "stream",
     "text": [
      "La stat= 2.689, la pvaleur = 0.100\n"
     ]
    }
   ],
   "source": [
    "stat, p = stats.f_oneway(df_tmp[0], df_tmp[1], df_tmp[2])\n",
    "print('La stat= {0:.3f}, la pvaleur = {1:.3f}'.format(stat,p))"
   ]
  },
  {
   "cell_type": "markdown",
   "metadata": {},
   "source": [
    "On ne rejette pas H0. Les volumes pulmonaires sont les mêmes selon les != traitements\n",
    "\n",
    "### Q3)\n",
    "\n",
    "Création d'un modèle ANOVA 2."
   ]
  },
  {
   "cell_type": "code",
   "execution_count": 29,
   "metadata": {},
   "outputs": [],
   "source": [
    "#Attention ! hyper important de transformer ces variables en variables qualitatives !\n",
    "df_lung['method'] = df_lung['method'].astype('category')\n",
    "df_lung['subject'] = df_lung['subject'].astype('category')"
   ]
  },
  {
   "cell_type": "code",
   "execution_count": 30,
   "metadata": {},
   "outputs": [
    {
     "name": "stdout",
     "output_type": "stream",
     "text": [
      "<class 'pandas.core.frame.DataFrame'>\n",
      "Int64Index: 18 entries, 1 to 18\n",
      "Data columns (total 3 columns):\n",
      "volume     18 non-null float64\n",
      "method     18 non-null category\n",
      "subject    18 non-null category\n",
      "dtypes: category(2), float64(1)\n",
      "memory usage: 636.0 bytes\n"
     ]
    }
   ],
   "source": [
    "df_lung.info()"
   ]
  },
  {
   "cell_type": "code",
   "execution_count": 31,
   "metadata": {},
   "outputs": [
    {
     "data": {
      "text/plain": [
       "\"\\ny = df_lung['volume']\\ndf_lung = df_lung.drop('volume', axis=1)\\nX_train, X_test, y_train, y_test = train_test_split(df_lung, y, test_size=0.3)\\ndf_tmp = pd.concat([X_train, y_train], axis=1)\\n\""
      ]
     },
     "execution_count": 31,
     "metadata": {},
     "output_type": "execute_result"
    }
   ],
   "source": [
    "#Attention, il ne faut pas faire de cv !\n",
    "'''\n",
    "y = df_lung['volume']\n",
    "df_lung = df_lung.drop('volume', axis=1)\n",
    "X_train, X_test, y_train, y_test = train_test_split(df_lung, y, test_size=0.3)\n",
    "df_tmp = pd.concat([X_train, y_train], axis=1)\n",
    "'''"
   ]
  },
  {
   "cell_type": "code",
   "execution_count": 32,
   "metadata": {},
   "outputs": [
    {
     "data": {
      "text/html": [
       "<div>\n",
       "<style scoped>\n",
       "    .dataframe tbody tr th:only-of-type {\n",
       "        vertical-align: middle;\n",
       "    }\n",
       "\n",
       "    .dataframe tbody tr th {\n",
       "        vertical-align: top;\n",
       "    }\n",
       "\n",
       "    .dataframe thead th {\n",
       "        text-align: right;\n",
       "    }\n",
       "</style>\n",
       "<table border=\"1\" class=\"dataframe\">\n",
       "  <thead>\n",
       "    <tr style=\"text-align: right;\">\n",
       "      <th></th>\n",
       "      <th>df</th>\n",
       "      <th>sum_sq</th>\n",
       "      <th>mean_sq</th>\n",
       "      <th>F</th>\n",
       "      <th>PR(&gt;F)</th>\n",
       "    </tr>\n",
       "  </thead>\n",
       "  <tbody>\n",
       "    <tr>\n",
       "      <td>method</td>\n",
       "      <td>2.0</td>\n",
       "      <td>1.081</td>\n",
       "      <td>0.541</td>\n",
       "      <td>6.495</td>\n",
       "      <td>0.016</td>\n",
       "    </tr>\n",
       "    <tr>\n",
       "      <td>subject</td>\n",
       "      <td>5.0</td>\n",
       "      <td>2.183</td>\n",
       "      <td>0.437</td>\n",
       "      <td>5.246</td>\n",
       "      <td>0.013</td>\n",
       "    </tr>\n",
       "    <tr>\n",
       "      <td>Residual</td>\n",
       "      <td>10.0</td>\n",
       "      <td>0.832</td>\n",
       "      <td>0.083</td>\n",
       "      <td>NaN</td>\n",
       "      <td>NaN</td>\n",
       "    </tr>\n",
       "  </tbody>\n",
       "</table>\n",
       "</div>"
      ],
      "text/plain": [
       "            df  sum_sq  mean_sq      F  PR(>F)\n",
       "method     2.0   1.081    0.541  6.495   0.016\n",
       "subject    5.0   2.183    0.437  5.246   0.013\n",
       "Residual  10.0   0.832    0.083    NaN     NaN"
      ]
     },
     "execution_count": 32,
     "metadata": {},
     "output_type": "execute_result"
    }
   ],
   "source": [
    "#P-value for significance of adding model terms.\n",
    "model = ols('volume ~ method + subject', data= df_lung).fit()\n",
    "anova_table = sm.stats.anova_lm(model)\n",
    "round(anova_table, 3)"
   ]
  },
  {
   "cell_type": "markdown",
   "metadata": {},
   "source": [
    "Les 2 premières questions montrent qu'en considérant chaque var quali séparément, on montre qu'il n'y a pas d'influence de ces variables sur la variable 'volume'. \n",
    "Cependant, dans la question 3, on considère les deux variables en même temps. On considère maintenant les deux variables et leurs intéractions. On rejette les hypothèses selon lesquelles chaque variable n'a pas d'influence sur le volume. Le modèle final se compose donc des deux variables ! \n",
    "\n",
    "\n",
    "## 3 Crabs\n",
    "\n",
    "### 1)"
   ]
  },
  {
   "cell_type": "code",
   "execution_count": 35,
   "metadata": {},
   "outputs": [
    {
     "data": {
      "text/html": [
       "<div>\n",
       "<style scoped>\n",
       "    .dataframe tbody tr th:only-of-type {\n",
       "        vertical-align: middle;\n",
       "    }\n",
       "\n",
       "    .dataframe tbody tr th {\n",
       "        vertical-align: top;\n",
       "    }\n",
       "\n",
       "    .dataframe thead th {\n",
       "        text-align: right;\n",
       "    }\n",
       "</style>\n",
       "<table border=\"1\" class=\"dataframe\">\n",
       "  <thead>\n",
       "    <tr style=\"text-align: right;\">\n",
       "      <th></th>\n",
       "      <th>sp</th>\n",
       "      <th>sex</th>\n",
       "      <th>index</th>\n",
       "      <th>FL</th>\n",
       "      <th>RW</th>\n",
       "      <th>CL</th>\n",
       "      <th>CW</th>\n",
       "      <th>BD</th>\n",
       "    </tr>\n",
       "  </thead>\n",
       "  <tbody>\n",
       "    <tr>\n",
       "      <td>1</td>\n",
       "      <td>B</td>\n",
       "      <td>M</td>\n",
       "      <td>1</td>\n",
       "      <td>8.1</td>\n",
       "      <td>6.7</td>\n",
       "      <td>16.1</td>\n",
       "      <td>19.0</td>\n",
       "      <td>7.0</td>\n",
       "    </tr>\n",
       "    <tr>\n",
       "      <td>2</td>\n",
       "      <td>B</td>\n",
       "      <td>M</td>\n",
       "      <td>2</td>\n",
       "      <td>8.8</td>\n",
       "      <td>7.7</td>\n",
       "      <td>18.1</td>\n",
       "      <td>20.8</td>\n",
       "      <td>7.4</td>\n",
       "    </tr>\n",
       "    <tr>\n",
       "      <td>3</td>\n",
       "      <td>B</td>\n",
       "      <td>M</td>\n",
       "      <td>3</td>\n",
       "      <td>9.2</td>\n",
       "      <td>7.8</td>\n",
       "      <td>19.0</td>\n",
       "      <td>22.4</td>\n",
       "      <td>7.7</td>\n",
       "    </tr>\n",
       "    <tr>\n",
       "      <td>4</td>\n",
       "      <td>B</td>\n",
       "      <td>M</td>\n",
       "      <td>4</td>\n",
       "      <td>9.6</td>\n",
       "      <td>7.9</td>\n",
       "      <td>20.1</td>\n",
       "      <td>23.1</td>\n",
       "      <td>8.2</td>\n",
       "    </tr>\n",
       "    <tr>\n",
       "      <td>5</td>\n",
       "      <td>B</td>\n",
       "      <td>M</td>\n",
       "      <td>5</td>\n",
       "      <td>9.8</td>\n",
       "      <td>8.0</td>\n",
       "      <td>20.3</td>\n",
       "      <td>23.0</td>\n",
       "      <td>8.2</td>\n",
       "    </tr>\n",
       "    <tr>\n",
       "      <td>...</td>\n",
       "      <td>...</td>\n",
       "      <td>...</td>\n",
       "      <td>...</td>\n",
       "      <td>...</td>\n",
       "      <td>...</td>\n",
       "      <td>...</td>\n",
       "      <td>...</td>\n",
       "      <td>...</td>\n",
       "    </tr>\n",
       "    <tr>\n",
       "      <td>196</td>\n",
       "      <td>O</td>\n",
       "      <td>F</td>\n",
       "      <td>46</td>\n",
       "      <td>21.4</td>\n",
       "      <td>18.0</td>\n",
       "      <td>41.2</td>\n",
       "      <td>46.2</td>\n",
       "      <td>18.7</td>\n",
       "    </tr>\n",
       "    <tr>\n",
       "      <td>197</td>\n",
       "      <td>O</td>\n",
       "      <td>F</td>\n",
       "      <td>47</td>\n",
       "      <td>21.7</td>\n",
       "      <td>17.1</td>\n",
       "      <td>41.7</td>\n",
       "      <td>47.2</td>\n",
       "      <td>19.6</td>\n",
       "    </tr>\n",
       "    <tr>\n",
       "      <td>198</td>\n",
       "      <td>O</td>\n",
       "      <td>F</td>\n",
       "      <td>48</td>\n",
       "      <td>21.9</td>\n",
       "      <td>17.2</td>\n",
       "      <td>42.6</td>\n",
       "      <td>47.4</td>\n",
       "      <td>19.5</td>\n",
       "    </tr>\n",
       "    <tr>\n",
       "      <td>199</td>\n",
       "      <td>O</td>\n",
       "      <td>F</td>\n",
       "      <td>49</td>\n",
       "      <td>22.5</td>\n",
       "      <td>17.2</td>\n",
       "      <td>43.0</td>\n",
       "      <td>48.7</td>\n",
       "      <td>19.8</td>\n",
       "    </tr>\n",
       "    <tr>\n",
       "      <td>200</td>\n",
       "      <td>O</td>\n",
       "      <td>F</td>\n",
       "      <td>50</td>\n",
       "      <td>23.1</td>\n",
       "      <td>20.2</td>\n",
       "      <td>46.2</td>\n",
       "      <td>52.5</td>\n",
       "      <td>21.1</td>\n",
       "    </tr>\n",
       "  </tbody>\n",
       "</table>\n",
       "<p>200 rows × 8 columns</p>\n",
       "</div>"
      ],
      "text/plain": [
       "    sp sex  index    FL    RW    CL    CW    BD\n",
       "1    B   M      1   8.1   6.7  16.1  19.0   7.0\n",
       "2    B   M      2   8.8   7.7  18.1  20.8   7.4\n",
       "3    B   M      3   9.2   7.8  19.0  22.4   7.7\n",
       "4    B   M      4   9.6   7.9  20.1  23.1   8.2\n",
       "5    B   M      5   9.8   8.0  20.3  23.0   8.2\n",
       "..  ..  ..    ...   ...   ...   ...   ...   ...\n",
       "196  O   F     46  21.4  18.0  41.2  46.2  18.7\n",
       "197  O   F     47  21.7  17.1  41.7  47.2  19.6\n",
       "198  O   F     48  21.9  17.2  42.6  47.4  19.5\n",
       "199  O   F     49  22.5  17.2  43.0  48.7  19.8\n",
       "200  O   F     50  23.1  20.2  46.2  52.5  21.1\n",
       "\n",
       "[200 rows x 8 columns]"
      ]
     },
     "execution_count": 35,
     "metadata": {},
     "output_type": "execute_result"
    }
   ],
   "source": [
    "# body depth BD en fonction des facteurs sexe et espèce.\n",
    "df_crabs = pd.read_csv('crabs.csv', index_col=0, dtype={'sex':'category', 'sp':'category'})\n",
    "df_crabs"
   ]
  },
  {
   "cell_type": "code",
   "execution_count": 37,
   "metadata": {},
   "outputs": [
    {
     "name": "stdout",
     "output_type": "stream",
     "text": [
      "<class 'pandas.core.frame.DataFrame'>\n",
      "Int64Index: 200 entries, 1 to 200\n",
      "Data columns (total 8 columns):\n",
      "sp       200 non-null category\n",
      "sex      200 non-null category\n",
      "index    200 non-null int64\n",
      "FL       200 non-null float64\n",
      "RW       200 non-null float64\n",
      "CL       200 non-null float64\n",
      "CW       200 non-null float64\n",
      "BD       200 non-null float64\n",
      "dtypes: category(2), float64(5), int64(1)\n",
      "memory usage: 11.4 KB\n"
     ]
    }
   ],
   "source": [
    "df_crabs.info()"
   ]
  },
  {
   "cell_type": "code",
   "execution_count": 55,
   "metadata": {},
   "outputs": [
    {
     "data": {
      "text/plain": [
       "''"
      ]
     },
     "execution_count": 55,
     "metadata": {},
     "output_type": "execute_result"
    },
    {
     "data": {
      "image/png": "[encoded data removed]",
      "text/plain": [
       "<Figure size 432x288 with 1 Axes>"
      ]
     },
     "metadata": {
      "needs_background": "light"
     },
     "output_type": "display_data"
    }
   ],
   "source": [
    "fig , ax = plt.subplots()\n",
    "sns.boxplot(x='sp', y='BD', data= df_crabs)\n",
    "ax.set_title('Répartion profondeur du \\n corps en fct de l\\'espèce')\n",
    ";"
   ]
  },
  {
   "cell_type": "code",
   "execution_count": 60,
   "metadata": {},
   "outputs": [
    {
     "data": {
      "text/plain": [
       "''"
      ]
     },
     "execution_count": 60,
     "metadata": {},
     "output_type": "execute_result"
    },
    {
     "data": {
      "image/png": "[encoded data removed]",
      "text/plain": [
       "<Figure size 432x288 with 1 Axes>"
      ]
     },
     "metadata": {
      "needs_background": "light"
     },
     "output_type": "display_data"
    }
   ],
   "source": [
    "fig , ax = plt.subplots()\n",
    "sns.boxplot(x='sex', y='BD', data= df_crabs)\n",
    "ax.set_title('Répartion profondeur du \\n corps en fct du sexe')\n",
    ";"
   ]
  },
  {
   "cell_type": "code",
   "execution_count": 63,
   "metadata": {},
   "outputs": [
    {
     "data": {
      "text/html": [
       "<div>\n",
       "<style scoped>\n",
       "    .dataframe tbody tr th:only-of-type {\n",
       "        vertical-align: middle;\n",
       "    }\n",
       "\n",
       "    .dataframe tbody tr th {\n",
       "        vertical-align: top;\n",
       "    }\n",
       "\n",
       "    .dataframe thead th {\n",
       "        text-align: right;\n",
       "    }\n",
       "</style>\n",
       "<table border=\"1\" class=\"dataframe\">\n",
       "  <thead>\n",
       "    <tr style=\"text-align: right;\">\n",
       "      <th></th>\n",
       "      <th>df</th>\n",
       "      <th>sum_sq</th>\n",
       "      <th>mean_sq</th>\n",
       "      <th>F</th>\n",
       "      <th>PR(&gt;F)</th>\n",
       "    </tr>\n",
       "  </thead>\n",
       "  <tbody>\n",
       "    <tr>\n",
       "      <td>sex</td>\n",
       "      <td>1.0</td>\n",
       "      <td>18.788</td>\n",
       "      <td>18.788</td>\n",
       "      <td>1.607</td>\n",
       "      <td>0.206</td>\n",
       "    </tr>\n",
       "    <tr>\n",
       "      <td>Residual</td>\n",
       "      <td>198.0</td>\n",
       "      <td>2315.295</td>\n",
       "      <td>11.693</td>\n",
       "      <td>NaN</td>\n",
       "      <td>NaN</td>\n",
       "    </tr>\n",
       "  </tbody>\n",
       "</table>\n",
       "</div>"
      ],
      "text/plain": [
       "             df    sum_sq  mean_sq      F  PR(>F)\n",
       "sex         1.0    18.788   18.788  1.607   0.206\n",
       "Residual  198.0  2315.295   11.693    NaN     NaN"
      ]
     },
     "execution_count": 63,
     "metadata": {},
     "output_type": "execute_result"
    }
   ],
   "source": [
    "#P-value for significance of adding model terms.\n",
    "model_sex = ols('BD ~ sex', data= df_crabs).fit()\n",
    "anova_table = sm.stats.anova_lm(model_sex)\n",
    "round(anova_table, 3)"
   ]
  },
  {
   "cell_type": "markdown",
   "metadata": {},
   "source": [
    "On ne rejette pas H0, la variable sexe n'a pas d'influence sur la prof. du corps si on considère uniquement la variable sexe. "
   ]
  },
  {
   "cell_type": "code",
   "execution_count": 65,
   "metadata": {},
   "outputs": [
    {
     "data": {
      "text/html": [
       "<div>\n",
       "<style scoped>\n",
       "    .dataframe tbody tr th:only-of-type {\n",
       "        vertical-align: middle;\n",
       "    }\n",
       "\n",
       "    .dataframe tbody tr th {\n",
       "        vertical-align: top;\n",
       "    }\n",
       "\n",
       "    .dataframe thead th {\n",
       "        text-align: right;\n",
       "    }\n",
       "</style>\n",
       "<table border=\"1\" class=\"dataframe\">\n",
       "  <thead>\n",
       "    <tr style=\"text-align: right;\">\n",
       "      <th></th>\n",
       "      <th>df</th>\n",
       "      <th>sum_sq</th>\n",
       "      <th>mean_sq</th>\n",
       "      <th>F</th>\n",
       "      <th>PR(&gt;F)</th>\n",
       "    </tr>\n",
       "  </thead>\n",
       "  <tbody>\n",
       "    <tr>\n",
       "      <td>sp</td>\n",
       "      <td>1.0</td>\n",
       "      <td>419.0512</td>\n",
       "      <td>419.0512</td>\n",
       "      <td>43.3268</td>\n",
       "      <td>0.0</td>\n",
       "    </tr>\n",
       "    <tr>\n",
       "      <td>Residual</td>\n",
       "      <td>198.0</td>\n",
       "      <td>1915.0327</td>\n",
       "      <td>9.6719</td>\n",
       "      <td>NaN</td>\n",
       "      <td>NaN</td>\n",
       "    </tr>\n",
       "  </tbody>\n",
       "</table>\n",
       "</div>"
      ],
      "text/plain": [
       "             df     sum_sq   mean_sq        F  PR(>F)\n",
       "sp          1.0   419.0512  419.0512  43.3268     0.0\n",
       "Residual  198.0  1915.0327    9.6719      NaN     NaN"
      ]
     },
     "execution_count": 65,
     "metadata": {},
     "output_type": "execute_result"
    }
   ],
   "source": [
    "model_sp = ols('BD ~ sp', data= df_crabs).fit()\n",
    "anova_table = sm.stats.anova_lm(model_sp)\n",
    "round(anova_table, 4)"
   ]
  },
  {
   "cell_type": "markdown",
   "metadata": {},
   "source": [
    "On rejette H0. Forte influence de l'espèce, que l'on voit d'ailleurs très bien sur le boxplot.\n",
    "\n",
    "Vérification des hypothèses :\n",
    "\n",
    "**Normalité des résidus**"
   ]
  },
  {
   "cell_type": "code",
   "execution_count": 72,
   "metadata": {},
   "outputs": [
    {
     "data": {
      "text/plain": [
       "''"
      ]
     },
     "execution_count": 72,
     "metadata": {},
     "output_type": "execute_result"
    },
    {
     "data": {
      "image/png": "[encoded data removed]",
      "text/plain": [
       "<Figure size 432x288 with 1 Axes>"
      ]
     },
     "metadata": {
      "needs_background": "light"
     },
     "output_type": "display_data"
    }
   ],
   "source": [
    "res_sex = df_crabs['BD'] - model_sex.predict(df_crabs)\n",
    "sns.distplot(res_sex)\n",
    ";"
   ]
  },
  {
   "cell_type": "code",
   "execution_count": 75,
   "metadata": {},
   "outputs": [
    {
     "data": {
      "image/png": "[encoded data removed]",
      "text/plain": [
       "<Figure size 432x288 with 1 Axes>"
      ]
     },
     "metadata": {
      "needs_background": "light"
     },
     "output_type": "display_data"
    }
   ],
   "source": [
    "res_sp = df_crabs['BD'] - model_sp.predict(df_crabs)\n",
    "sns.distplot(res_sp);"
   ]
  },
  {
   "cell_type": "code",
   "execution_count": 91,
   "metadata": {},
   "outputs": [
    {
     "name": "stdout",
     "output_type": "stream",
     "text": [
      "Test Shapiro sex: la stat= 0.990, la pvaleur = 0.200\n"
     ]
    }
   ],
   "source": [
    "stat, p = stats.shapiro(res_sex)\n",
    "print('Test Shapiro sex: la stat= {0:.3f}, la pvaleur = {1:.3f}'.format(stat,p))"
   ]
  },
  {
   "cell_type": "markdown",
   "metadata": {},
   "source": [
    "On a bien la gaussianité des résidus pour sex"
   ]
  },
  {
   "cell_type": "code",
   "execution_count": 92,
   "metadata": {},
   "outputs": [
    {
     "name": "stdout",
     "output_type": "stream",
     "text": [
      "Test Shapiro sex: la stat= 0.990, la pvaleur = 0.169\n"
     ]
    }
   ],
   "source": [
    "stat, p = stats.shapiro(res_sp)\n",
    "print('Test Shapiro sex: la stat= {0:.3f}, la pvaleur = {1:.3f}'.format(stat,p))"
   ]
  },
  {
   "cell_type": "markdown",
   "metadata": {},
   "source": [
    "Même chose pour la variable sp !\n",
    "\n",
    "**Homoscédasticité**\n",
    "\n",
    "Test de Bartlett\n",
    "\n",
    "Pour la variable sex"
   ]
  },
  {
   "cell_type": "code",
   "execution_count": 95,
   "metadata": {},
   "outputs": [
    {
     "name": "stdout",
     "output_type": "stream",
     "text": [
      "La stat= 0.990, la pvaleur = 0.169\n",
      "var1= 3.494, var2 3.343\n"
     ]
    }
   ],
   "source": [
    "df_tmp = []\n",
    "df_tmp.append(df_crabs['BD'][df_crabs['sex']=='M'])\n",
    "df_tmp.append(df_crabs['BD'][df_crabs['sex']=='F'])\n",
    "stats.bartlett(df_tmp[0], df_tmp[1])\n",
    "print('La stat= {0:.3f}, la pvaleur = {1:.3f}'.format(stat,p))\n",
    "\n",
    "print('var1= {0:.3f}, var2 {1:.3f}'.format(df_tmp[0].std(), df_tmp[1].std()))"
   ]
  },
  {
   "cell_type": "markdown",
   "metadata": {},
   "source": [
    "La condition d'homoscédasticité est vérifiée pour sex.\n",
    "Pour la variable sp :"
   ]
  },
  {
   "cell_type": "code",
   "execution_count": 98,
   "metadata": {},
   "outputs": [
    {
     "name": "stdout",
     "output_type": "stream",
     "text": [
      "La stat= 0.990, la pvaleur = 0.169\n",
      "var1= 3.068, var2 3.151\n"
     ]
    }
   ],
   "source": [
    "df_tmp = []\n",
    "df_tmp.append(df_crabs['BD'][df_crabs['sp']=='B'])\n",
    "df_tmp.append(df_crabs['BD'][df_crabs['sp']=='O'])\n",
    "stats.bartlett(df_tmp[0], df_tmp[1])\n",
    "print('La stat= {0:.3f}, la pvaleur = {1:.3f}'.format(stat,p))\n",
    "\n",
    "print('var1= {0:.3f}, var2 {1:.3f}'.format(df_tmp[0].std(), df_tmp[1].std()))"
   ]
  },
  {
   "cell_type": "markdown",
   "metadata": {},
   "source": [
    "Même chose pour sp\n",
    "\n",
    "### Q2)\n",
    "\n",
    "Construction ANOVA 2"
   ]
  },
  {
   "cell_type": "code",
   "execution_count": 99,
   "metadata": {},
   "outputs": [
    {
     "name": "stdout",
     "output_type": "stream",
     "text": [
      "             df      sum_sq     mean_sq          F        PR(>F)\n",
      "sex         1.0    18.78845   18.788450   1.986445  1.602977e-01\n",
      "sp          1.0   419.05125  419.051250  44.305005  2.751275e-10\n",
      "sex:sp      1.0    42.41205   42.412050   4.484096  3.547225e-02\n",
      "Residual  196.0  1853.83220    9.458328        NaN           NaN\n"
     ]
    }
   ],
   "source": [
    "model = ols('BD ~ sex + sp + sex :sp', data=df_crabs).fit()\n",
    "anova_table = sm.stats.anova_lm(model)\n",
    "print(anova_table)"
   ]
  },
  {
   "cell_type": "markdown",
   "metadata": {},
   "source": [
    "Influence du sex mais à travers l'intéraction des 2 variables.\n",
    "Une esp, les mâles sont un peu plus gros. C'est l'inverse pour l'autre sp. \n",
    "Donc pas d'influence du sexe tout seul, mais quand on considère l'interraction des deux variables on trouve une influence du sexe !\n",
    "Il est donc très important de considérer l'ANOVA2 plutôt que 2 ANOVA1. "
   ]
  },
  {
   "cell_type": "code",
   "execution_count": 100,
   "metadata": {},
   "outputs": [
    {
     "data": {
      "text/html": [
       "<table class=\"simpletable\">\n",
       "<caption>OLS Regression Results</caption>\n",
       "<tr>\n",
       "  <th>Dep. Variable:</th>           <td>BD</td>        <th>  R-squared:         </th> <td>   0.206</td>\n",
       "</tr>\n",
       "<tr>\n",
       "  <th>Model:</th>                   <td>OLS</td>       <th>  Adj. R-squared:    </th> <td>   0.194</td>\n",
       "</tr>\n",
       "<tr>\n",
       "  <th>Method:</th>             <td>Least Squares</td>  <th>  F-statistic:       </th> <td>   16.93</td>\n",
       "</tr>\n",
       "<tr>\n",
       "  <th>Date:</th>             <td>Tue, 21 Jan 2020</td> <th>  Prob (F-statistic):</th> <td>8.13e-10</td>\n",
       "</tr>\n",
       "<tr>\n",
       "  <th>Time:</th>                 <td>11:08:15</td>     <th>  Log-Likelihood:    </th> <td> -506.46</td>\n",
       "</tr>\n",
       "<tr>\n",
       "  <th>No. Observations:</th>      <td>   200</td>      <th>  AIC:               </th> <td>   1021.</td>\n",
       "</tr>\n",
       "<tr>\n",
       "  <th>Df Residuals:</th>          <td>   196</td>      <th>  BIC:               </th> <td>   1034.</td>\n",
       "</tr>\n",
       "<tr>\n",
       "  <th>Df Model:</th>              <td>     3</td>      <th>                     </th>     <td> </td>   \n",
       "</tr>\n",
       "<tr>\n",
       "  <th>Covariance Type:</th>      <td>nonrobust</td>    <th>                     </th>     <td> </td>   \n",
       "</tr>\n",
       "</table>\n",
       "<table class=\"simpletable\">\n",
       "<tr>\n",
       "          <td></td>            <th>coef</th>     <th>std err</th>      <th>t</th>      <th>P>|t|</th>  <th>[0.025</th>    <th>0.975]</th>  \n",
       "</tr>\n",
       "<tr>\n",
       "  <th>Intercept</th>        <td>   11.8160</td> <td>    0.435</td> <td>   27.167</td> <td> 0.000</td> <td>   10.958</td> <td>   12.674</td>\n",
       "</tr>\n",
       "<tr>\n",
       "  <th>sex[T.M]</th>         <td>    1.5340</td> <td>    0.615</td> <td>    2.494</td> <td> 0.013</td> <td>    0.321</td> <td>    2.747</td>\n",
       "</tr>\n",
       "<tr>\n",
       "  <th>sp[T.O]</th>          <td>    3.8160</td> <td>    0.615</td> <td>    6.204</td> <td> 0.000</td> <td>    2.603</td> <td>    5.029</td>\n",
       "</tr>\n",
       "<tr>\n",
       "  <th>sex[T.M]:sp[T.O]</th> <td>   -1.8420</td> <td>    0.870</td> <td>   -2.118</td> <td> 0.035</td> <td>   -3.557</td> <td>   -0.127</td>\n",
       "</tr>\n",
       "</table>\n",
       "<table class=\"simpletable\">\n",
       "<tr>\n",
       "  <th>Omnibus:</th>       <td> 5.153</td> <th>  Durbin-Watson:     </th> <td>   0.332</td>\n",
       "</tr>\n",
       "<tr>\n",
       "  <th>Prob(Omnibus):</th> <td> 0.076</td> <th>  Jarque-Bera (JB):  </th> <td>   3.009</td>\n",
       "</tr>\n",
       "<tr>\n",
       "  <th>Skew:</th>          <td>-0.046</td> <th>  Prob(JB):          </th> <td>   0.222</td>\n",
       "</tr>\n",
       "<tr>\n",
       "  <th>Kurtosis:</th>      <td> 2.406</td> <th>  Cond. No.          </th> <td>    6.85</td>\n",
       "</tr>\n",
       "</table><br/><br/>Warnings:<br/>[1] Standard Errors assume that the covariance matrix of the errors is correctly specified."
      ],
      "text/plain": [
       "<class 'statsmodels.iolib.summary.Summary'>\n",
       "\"\"\"\n",
       "                            OLS Regression Results                            \n",
       "==============================================================================\n",
       "Dep. Variable:                     BD   R-squared:                       0.206\n",
       "Model:                            OLS   Adj. R-squared:                  0.194\n",
       "Method:                 Least Squares   F-statistic:                     16.93\n",
       "Date:                Tue, 21 Jan 2020   Prob (F-statistic):           8.13e-10\n",
       "Time:                        11:08:15   Log-Likelihood:                -506.46\n",
       "No. Observations:                 200   AIC:                             1021.\n",
       "Df Residuals:                     196   BIC:                             1034.\n",
       "Df Model:                           3                                         \n",
       "Covariance Type:            nonrobust                                         \n",
       "====================================================================================\n",
       "                       coef    std err          t      P>|t|      [0.025      0.975]\n",
       "------------------------------------------------------------------------------------\n",
       "Intercept           11.8160      0.435     27.167      0.000      10.958      12.674\n",
       "sex[T.M]             1.5340      0.615      2.494      0.013       0.321       2.747\n",
       "sp[T.O]              3.8160      0.615      6.204      0.000       2.603       5.029\n",
       "sex[T.M]:sp[T.O]    -1.8420      0.870     -2.118      0.035      -3.557      -0.127\n",
       "==============================================================================\n",
       "Omnibus:                        5.153   Durbin-Watson:                   0.332\n",
       "Prob(Omnibus):                  0.076   Jarque-Bera (JB):                3.009\n",
       "Skew:                          -0.046   Prob(JB):                        0.222\n",
       "Kurtosis:                       2.406   Cond. No.                         6.85\n",
       "==============================================================================\n",
       "\n",
       "Warnings:\n",
       "[1] Standard Errors assume that the covariance matrix of the errors is correctly specified.\n",
       "\"\"\""
      ]
     },
     "execution_count": 100,
     "metadata": {},
     "output_type": "execute_result"
    }
   ],
   "source": [
    "model.summary()"
   ]
  },
  {
   "cell_type": "code",
   "execution_count": null,
   "metadata": {},
   "outputs": [],
   "source": []
  }
 ],
 "metadata": {
  "kernelspec": {
   "display_name": "Python 3",
   "language": "python",
   "name": "python3"
  },
  "language_info": {
   "codemirror_mode": {
    "name": "ipython",
    "version": 3
   },
   "file_extension": ".py",
   "mimetype": "text/x-python",
   "name": "python",
   "nbconvert_exporter": "python",
   "pygments_lexer": "ipython3",
   "version": "3.7.4"
  }
 },
 "nbformat": 4,
 "nbformat_minor": 2
}
