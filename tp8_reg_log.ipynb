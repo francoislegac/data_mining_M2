{
 "cells": [
  {
   "cell_type": "code",
   "execution_count": 14,
   "metadata": {},
   "outputs": [],
   "source": [
    "import numpy as np\n",
    "import pandas as pd\n",
    "import matplotlib.pyplot as plt\n",
    "from scipy.stats import bernoulli"
   ]
  },
  {
   "cell_type": "code",
   "execution_count": 25,
   "metadata": {},
   "outputs": [],
   "source": [
    "def sim_df(p=0.5, q=0.5, n=100):\n",
    "    X1 = [] ; X2 = [] ;Y = []\n",
    "    for i in range(n):\n",
    "        X1.append(np.random.rand(1))\n",
    "        X2.append(np.random.rand(1))\n",
    "        if 2*X1[i] + 5*X2[i] < 3.5:\n",
    "            Y.append(bernoulli.rvs(p, size=1))\n",
    "        else: \n",
    "            Y.append(bernoulli.rvs(q, size=1))\n",
    "#    return pd.DataFrame({'X1':X1, 'X2':X2, 'Y':Y})\n",
    "    return np.column_stack([X1,X2,Y])"
   ]
  },
  {
   "cell_type": "code",
   "execution_count": 27,
   "metadata": {},
   "outputs": [],
   "source": [
    "X_train = sim_df(0.6, 0.3, 700)\n",
    "X_test = sim_df(0.6, 0.3, 300)"
   ]
  },
  {
   "cell_type": "code",
   "execution_count": null,
   "metadata": {},
   "outputs": [],
   "source": []
  }
 ],
 "metadata": {
  "kernelspec": {
   "display_name": "Python 3",
   "language": "python",
   "name": "python3"
  },
  "language_info": {
   "codemirror_mode": {
    "name": "ipython",
    "version": 3
   },
   "file_extension": ".py",
   "mimetype": "text/x-python",
   "name": "python",
   "nbconvert_exporter": "python",
   "pygments_lexer": "ipython3",
   "version": "3.7.4"
  }
 },
 "nbformat": 4,
 "nbformat_minor": 2
}
